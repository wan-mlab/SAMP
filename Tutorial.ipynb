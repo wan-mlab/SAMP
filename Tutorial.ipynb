{
 "cells": [
  {
   "cell_type": "code",
   "execution_count": 1,
   "metadata": {},
   "outputs": [],
   "source": [
    "import SAMP as samp\n",
    "import pandas as pd"
   ]
  },
  {
   "cell_type": "markdown",
   "metadata": {},
   "source": [
    "### Build feature matrix for the training & testing data from iAMPpred "
   ]
  },
  {
   "cell_type": "code",
   "execution_count": 2,
   "metadata": {},
   "outputs": [
    {
     "name": "stdout",
     "output_type": "stream",
     "text": [
      "Preprocessing done!\n",
      "#########AMP-Sequence Summary############\n",
      "984 peptide sequences are found after preprocessing!\n",
      "Minimum sequence length is 10 \n",
      "Maximum sequence length is 255 \n",
      "Average sequence length is 44.5437 \n",
      "##########################################\n",
      "#########NonAMP-Sequence Summary############\n",
      "984 peptide sequences are found after preprocessing!\n",
      "Minimum sequence length is 10 \n",
      "Maximum sequence length is 94 \n",
      "Average sequence length is 29.9685 \n",
      "##########################################\n",
      "AAC done!\n",
      "PHYC done!\n",
      "PAAC done!\n",
      "NAAC done!\n",
      "SAAC done!\n",
      "Finished!\n",
      "Feature matrix stored in iAMPpred_trainingfeature.csv \n"
     ]
    },
    {
     "name": "stderr",
     "output_type": "stream",
     "text": [
      "Warning message:\n",
      "In readLines(ampFile) :\n",
      "  incomplete final line found on 'Training_Dataset/iAMPpred_pos_fasta.txt'\n"
     ]
    }
   ],
   "source": [
    "feature = samp.FeatureBuilder(0.2,0.6)\n",
    "feature.build('Training_Dataset/iAMPpred_pos_fasta.txt','Training_Dataset/iAMPpred_neg_fasta.txt','iAMPpred_trainingfeature.csv')"
   ]
  },
  {
   "cell_type": "code",
   "execution_count": 3,
   "metadata": {},
   "outputs": [
    {
     "name": "stdout",
     "output_type": "stream",
     "text": [
      "Preprocessing done!\n",
      "#########AMP-Sequence Summary############\n",
      "39 peptide sequences are found after preprocessing!\n",
      "Minimum sequence length is 12 \n",
      "Maximum sequence length is 456 \n",
      "Average sequence length is 78.07692 \n",
      "##########################################\n",
      "#########NonAMP-Sequence Summary############\n",
      "894 peptide sequences are found after preprocessing!\n",
      "Minimum sequence length is 52 \n",
      "Maximum sequence length is 500 \n",
      "Average sequence length is 284.868 \n",
      "##########################################\n",
      "AAC done!\n",
      "PHYC done!\n",
      "PAAC done!\n",
      "NAAC done!\n",
      "SAAC done!\n",
      "Finished!\n",
      "Feature matrix stored in iAMPpred_independentfeature.csv \n"
     ]
    },
    {
     "name": "stderr",
     "output_type": "stream",
     "text": [
      "Warning messages:\n",
      "1: In readLines(ampFile) :\n",
      "  incomplete final line found on 'Independent_Dataset/human_Positive.txt'\n",
      "2: In readLines(nonampFile) :\n",
      "  incomplete final line found on 'Independent_Dataset/human_Negative.txt'\n"
     ]
    }
   ],
   "source": [
    "feature.build('Independent_Dataset/human_Positive.txt','Independent_Dataset/human_Negative.txt','iAMPpred_independentfeature.csv')"
   ]
  },
  {
   "cell_type": "code",
   "execution_count": 2,
   "metadata": {},
   "outputs": [],
   "source": [
    "## Prepare independent testing data\n",
    "X_test = pd.read_csv('feature_matrix/iAMPpred_independentfeature.csv',index_col=0)\n",
    "y_test = X_test.pop('labels')\n",
    "\n",
    "## Prepare training data\n",
    "X_train = pd.read_csv('feature_matrix/iAMPpred_trainingfeature.csv',index_col=0)\n",
    "y_train = X_train.pop('labels')"
   ]
  },
  {
   "cell_type": "code",
   "execution_count": 3,
   "metadata": {},
   "outputs": [
    {
     "name": "stdout",
     "output_type": "stream",
     "text": [
      "Starting run 1/10...\n",
      "Random projection 1 completed.\n",
      "Starting SVM training using GridSearchCV...\n"
     ]
    },
    {
     "name": "stdout",
     "output_type": "stream",
     "text": [
      "Grid search completed. Best parameters found.\n",
      "Starting run 2/10...\n",
      "Random projection 2 completed.\n",
      "Starting SVM training using GridSearchCV...\n",
      "Grid search completed. Best parameters found.\n",
      "Starting run 3/10...\n",
      "Random projection 3 completed.\n",
      "Starting SVM training using GridSearchCV...\n",
      "Grid search completed. Best parameters found.\n",
      "Starting run 4/10...\n",
      "Random projection 4 completed.\n",
      "Starting SVM training using GridSearchCV...\n",
      "Grid search completed. Best parameters found.\n",
      "Starting run 5/10...\n",
      "Random projection 5 completed.\n",
      "Starting SVM training using GridSearchCV...\n",
      "Grid search completed. Best parameters found.\n",
      "Starting run 6/10...\n",
      "Random projection 6 completed.\n",
      "Starting SVM training using GridSearchCV...\n",
      "Grid search completed. Best parameters found.\n",
      "Starting run 7/10...\n",
      "Random projection 7 completed.\n",
      "Starting SVM training using GridSearchCV...\n",
      "Grid search completed. Best parameters found.\n",
      "Starting run 8/10...\n",
      "Random projection 8 completed.\n",
      "Starting SVM training using GridSearchCV...\n",
      "Grid search completed. Best parameters found.\n",
      "Starting run 9/10...\n",
      "Random projection 9 completed.\n",
      "Starting SVM training using GridSearchCV...\n",
      "Grid search completed. Best parameters found.\n",
      "Starting run 10/10...\n",
      "Random projection 10 completed.\n",
      "Starting SVM training using GridSearchCV...\n",
      "Grid search completed. Best parameters found.\n",
      "Dimension 50 =>>\n",
      "Accuracy : 93.09 ± 0.005\n",
      "Sensitivity : 90.55 ± 0.004\n",
      "Specificity : 95.63 ± 0.011\n",
      "Precision : 95.40 ± 0.010\n",
      "Auc : 97.63 ± 0.002\n",
      "F1 : 92.91 ± 0.005\n",
      "Mcc : 86.29 ± 0.011\n",
      "All runs completed. Ensemble scoring finished.\n"
     ]
    }
   ],
   "source": [
    "clf = samp.SAMP(dim=50,method='Gaussian',runs=10)\n",
    "clf.fit(X_train,y_train)"
   ]
  },
  {
   "cell_type": "code",
   "execution_count": 4,
   "metadata": {},
   "outputs": [
    {
     "name": "stdout",
     "output_type": "stream",
     "text": [
      "Dimension 50 =>>\n",
      "Accuracy : 66.35 ± 0.027\n",
      "Sensitivity : 84.62 ± 0.049\n",
      "Specificity : 65.55 ± 0.027\n",
      "Precision : 9.68 ± 0.010\n",
      "Auc : 72.55 ± 0.040\n",
      "F1 : 17.37 ± 0.017\n",
      "Mcc : 20.85 ± 0.030\n"
     ]
    }
   ],
   "source": [
    "clf.predict(X_test,y_test)"
   ]
  }
 ],
 "metadata": {
  "kernelspec": {
   "display_name": "Python 3",
   "language": "python",
   "name": "python3"
  },
  "language_info": {
   "codemirror_mode": {
    "name": "ipython",
    "version": 3
   },
   "file_extension": ".py",
   "mimetype": "text/x-python",
   "name": "python",
   "nbconvert_exporter": "python",
   "pygments_lexer": "ipython3",
   "version": "3.8.19"
  }
 },
 "nbformat": 4,
 "nbformat_minor": 4
}
